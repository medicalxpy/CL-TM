{
 "cells": [
  {
   "cell_type": "code",
   "execution_count": 1,
   "id": "253828e1",
   "metadata": {},
   "outputs": [
    {
     "name": "stderr",
     "output_type": "stream",
     "text": [
      "/volume1/home/pxie/.local/lib/python3.9/site-packages/cupy/_environment.py:437: UserWarning: \n",
      "--------------------------------------------------------------------------------\n",
      "\n",
      "  CuPy may not function correctly because multiple CuPy packages are installed\n",
      "  in your environment:\n",
      "\n",
      "    cupy-cuda101, cupy-cuda117\n",
      "\n",
      "  Follow these steps to resolve this issue:\n",
      "\n",
      "    1. For all packages listed above, run the following command to remove all\n",
      "       existing CuPy installations:\n",
      "\n",
      "         $ pip uninstall <package_name>\n",
      "\n",
      "      If you previously installed CuPy via conda, also run the following:\n",
      "\n",
      "         $ conda uninstall cupy\n",
      "\n",
      "    2. Install the appropriate CuPy package.\n",
      "       Refer to the Installation Guide for detailed instructions.\n",
      "\n",
      "         https://docs.cupy.dev/en/stable/install.html\n",
      "\n",
      "--------------------------------------------------------------------------------\n",
      "\n",
      "  warnings.warn(f'''\n",
      "2025-05-23 03:58:41.343353: I tensorflow/core/util/port.cc:153] oneDNN custom operations are on. You may see slightly different numerical results due to floating-point round-off errors from different computation orders. To turn them off, set the environment variable `TF_ENABLE_ONEDNN_OPTS=0`.\n",
      "2025-05-23 03:58:41.378616: E external/local_xla/xla/stream_executor/cuda/cuda_fft.cc:477] Unable to register cuFFT factory: Attempting to register factory for plugin cuFFT when one has already been registered\n",
      "WARNING: All log messages before absl::InitializeLog() is called are written to STDERR\n",
      "E0000 00:00:1747943921.419730 3957475 cuda_dnn.cc:8310] Unable to register cuDNN factory: Attempting to register factory for plugin cuDNN when one has already been registered\n",
      "E0000 00:00:1747943921.432144 3957475 cuda_blas.cc:1418] Unable to register cuBLAS factory: Attempting to register factory for plugin cuBLAS when one has already been registered\n",
      "2025-05-23 03:58:41.476453: I tensorflow/core/platform/cpu_feature_guard.cc:210] This TensorFlow binary is optimized to use available CPU instructions in performance-critical operations.\n",
      "To enable the following instructions: AVX2 AVX512F AVX512_VNNI FMA, in other operations, rebuild TensorFlow with the appropriate compiler flags.\n"
     ]
    }
   ],
   "source": [
    "import os\n",
    "import torch\n",
    "import anndata as ad\n",
    "import scanpy as sc\n",
    "from torch.utils.tensorboard import SummaryWriter\n",
    "\n",
    "# 导入我们的模块\n",
    "from models.cl_scetm import CL_scETM\n",
    "from trainers.cl_scETM_trainer import CL_scETM_Trainer\n",
    "from data.preprocess import preprocess_data, setup_anndata,read_data\n",
    "import logging\n",
    "\n",
    "# 设置日志\n",
    "logging.basicConfig(level=logging.INFO)\n",
    "logger = logging.getLogger(__name__)\n"
   ]
  },
  {
   "cell_type": "code",
   "execution_count": 2,
   "id": "0bd03ac5",
   "metadata": {},
   "outputs": [
    {
     "name": "stderr",
     "output_type": "stream",
     "text": [
      "INFO:data.preprocess:读取了66985个细胞，36263个基因\n",
      "INFO:data.preprocess:预处理后数据：66944个细胞，2000个基因\n"
     ]
    }
   ],
   "source": [
    "adata = read_data(file_path='/volume1/home/pxie/data/PBMC.h5ad')\n",
    "\n",
    "# 预处理数据\n",
    "adata = preprocess_data(\n",
    "    adata,\n",
    "    normalize=True,\n",
    "    log_transform=True,\n",
    "    scale=False,\n",
    "    min_cells=3,\n",
    "    min_genes=200,\n",
    "            hvg_selection=True,\n",
    "        n_top_genes=2000\n",
    ")"
   ]
  },
  {
   "cell_type": "code",
   "execution_count": 3,
   "id": "13751ee4",
   "metadata": {},
   "outputs": [],
   "source": [
    "adata = setup_anndata(adata, batch_col='batch', cell_type_col='cell_type')\n",
    "\n"
   ]
  },
  {
   "cell_type": "code",
   "execution_count": 4,
   "id": "780a3f4f",
   "metadata": {},
   "outputs": [],
   "source": [
    "model = CL_scETM(\n",
    "    n_genes=adata.n_vars,\n",
    "    n_topics=50,\n",
    "    hidden_sizes=[128],\n",
    "    gene_emb_dim=400,\n",
    "    bn=True,\n",
    "    dropout_prob=0.1,\n",
    "    n_batches=adata.obs['batch'].nunique() if 'batch' in adata.obs else 1,\n",
    "    normalize_beta=False,\n",
    "    input_batch_id=True,\n",
    "    enable_batch_bias=True,\n",
    "    enable_global_bias=False,\n",
    "    prior_type='standard',  # 使用标准先验\n",
    "    device=torch.device('cuda' if torch.cuda.is_available() else 'cpu')\n",
    ")"
   ]
  },
  {
   "cell_type": "code",
   "execution_count": null,
   "id": "7c2cdd5a",
   "metadata": {},
   "outputs": [
    {
     "name": "stderr",
     "output_type": "stream",
     "text": [
      "INFO:trainers.trainer_utils:设置种子为 42。\n",
      "/usr/local/anaconda3/lib/python3.9/site-packages/torch/optim/lr_scheduler.py:60: UserWarning: The verbose parameter is deprecated. Please use get_last_lr() to access the learning rate.\n",
      "  warnings.warn(\n",
      "INFO:trainers.cl_scETM_trainer:检查点目录: ./saved_models/standard_prior/pbmc_standard_05_23-03_59_03\n"
     ]
    }
   ],
   "source": [
    "    trainer = CL_scETM_Trainer(\n",
    "        model=model,\n",
    "        adata=adata,\n",
    "        ckpt_dir='./saved_models/standard_prior',\n",
    "        test_ratio=0,\n",
    "        learning_rate=5e-3,\n",
    "        batch_size=1024,\n",
    "        train_instance_name='pbmc_standard',\n",
    "        seed=42\n",
    "    )"
   ]
  },
  {
   "cell_type": "code",
   "execution_count": 6,
   "id": "291bb7ca",
   "metadata": {},
   "outputs": [
    {
     "name": "stderr",
     "output_type": "stream",
     "text": [
      "INFO:trainers.cl_scETM_trainer:开始训练任务 0\n"
     ]
    },
    {
     "name": "stdout",
     "output_type": "stream",
     "text": [
      "loss:      562.2\tnll:      552.7\tkl:      31.64\tEpoch     9/  100\tNext ckpt:      10\r"
     ]
    },
    {
     "name": "stderr",
     "output_type": "stream",
     "text": [
      "INFO:trainers.cl_scETM_trainer:\n",
      "==================== Epoch 10 ====================\n",
      "INFO:trainers.cl_scETM_trainer:学习率: 0.005000, KL权重: 0.300000\n",
      "INFO:trainers.trainer_utils:loss        :      562.9\n",
      "INFO:trainers.trainer_utils:nll         :      554.1\n",
      "INFO:trainers.trainer_utils:kl          :  6.858e+05\n"
     ]
    },
    {
     "name": "stdout",
     "output_type": "stream",
     "text": [
      "loss:      566.4\tnll:        559\tkl:      11.64\tEpoch    19/  100\tNext ckpt:      20\r"
     ]
    },
    {
     "name": "stderr",
     "output_type": "stream",
     "text": [
      "INFO:trainers.cl_scETM_trainer:\n",
      "==================== Epoch 20 ====================\n",
      "INFO:trainers.cl_scETM_trainer:学习率: 0.005000, KL权重: 0.633333\n",
      "INFO:trainers.trainer_utils:loss        :      564.9\n",
      "INFO:trainers.trainer_utils:nll         :      556.9\n",
      "INFO:trainers.trainer_utils:kl          :      17.52\n",
      "INFO:trainers.trainer_utils:检查点已保存到 ./saved_models/standard_prior/pbmc_standard_05_23-03_59_03\n"
     ]
    },
    {
     "name": "stdout",
     "output_type": "stream",
     "text": [
      "loss:      568.6\tnll:      560.9\tkl:       8.02\tEpoch    29/  100\tNext ckpt:      30\r"
     ]
    },
    {
     "name": "stderr",
     "output_type": "stream",
     "text": [
      "INFO:trainers.cl_scETM_trainer:\n",
      "==================== Epoch 30 ====================\n",
      "INFO:trainers.cl_scETM_trainer:学习率: 0.005000, KL权重: 0.966667\n",
      "INFO:trainers.trainer_utils:loss        :      567.6\n",
      "INFO:trainers.trainer_utils:nll         :      560.2\n",
      "INFO:trainers.trainer_utils:kl          :      9.273\n"
     ]
    },
    {
     "name": "stdout",
     "output_type": "stream",
     "text": [
      "loss:      568.4\tnll:      560.7\tkl:      7.705\tEpoch    39/  100\tNext ckpt:      40\r"
     ]
    },
    {
     "name": "stderr",
     "output_type": "stream",
     "text": [
      "INFO:trainers.cl_scETM_trainer:\n",
      "==================== Epoch 40 ====================\n",
      "INFO:trainers.cl_scETM_trainer:学习率: 0.005000, KL权重: 1.000000\n",
      "INFO:trainers.trainer_utils:loss        :      568.6\n",
      "INFO:trainers.trainer_utils:nll         :      560.9\n",
      "INFO:trainers.trainer_utils:kl          :      7.727\n",
      "INFO:trainers.trainer_utils:检查点已保存到 ./saved_models/standard_prior/pbmc_standard_05_23-03_59_03\n"
     ]
    },
    {
     "name": "stdout",
     "output_type": "stream",
     "text": [
      "loss:      568.1\tnll:      560.5\tkl:      7.645\tEpoch    49/  100\tNext ckpt:      50\r"
     ]
    },
    {
     "name": "stderr",
     "output_type": "stream",
     "text": [
      "INFO:trainers.cl_scETM_trainer:\n",
      "==================== Epoch 50 ====================\n",
      "INFO:trainers.cl_scETM_trainer:学习率: 0.005000, KL权重: 1.000000\n",
      "INFO:trainers.trainer_utils:loss        :      568.3\n",
      "INFO:trainers.trainer_utils:nll         :      560.6\n",
      "INFO:trainers.trainer_utils:kl          :      7.679\n"
     ]
    },
    {
     "name": "stdout",
     "output_type": "stream",
     "text": [
      "loss:        568\tnll:      560.3\tkl:      7.633\tEpoch    59/  100\tNext ckpt:      60\r"
     ]
    },
    {
     "name": "stderr",
     "output_type": "stream",
     "text": [
      "INFO:trainers.cl_scETM_trainer:\n",
      "==================== Epoch 60 ====================\n",
      "INFO:trainers.cl_scETM_trainer:学习率: 0.005000, KL权重: 1.000000\n",
      "INFO:trainers.trainer_utils:loss        :      568.1\n",
      "INFO:trainers.trainer_utils:nll         :      560.4\n",
      "INFO:trainers.trainer_utils:kl          :      7.643\n",
      "INFO:trainers.trainer_utils:检查点已保存到 ./saved_models/standard_prior/pbmc_standard_05_23-03_59_03\n"
     ]
    },
    {
     "name": "stdout",
     "output_type": "stream",
     "text": [
      "loss:      567.8\tnll:      560.2\tkl:      7.583\tEpoch    69/  100\tNext ckpt:      70\r"
     ]
    },
    {
     "name": "stderr",
     "output_type": "stream",
     "text": [
      "INFO:trainers.cl_scETM_trainer:\n",
      "==================== Epoch 70 ====================\n",
      "INFO:trainers.cl_scETM_trainer:学习率: 0.005000, KL权重: 1.000000\n",
      "INFO:trainers.trainer_utils:loss        :      567.9\n",
      "INFO:trainers.trainer_utils:nll         :      560.3\n",
      "INFO:trainers.trainer_utils:kl          :      7.603\n"
     ]
    },
    {
     "name": "stdout",
     "output_type": "stream",
     "text": [
      "loss:      567.6\tnll:      560.1\tkl:      7.542\tEpoch    79/  100\tNext ckpt:      80\r"
     ]
    },
    {
     "name": "stderr",
     "output_type": "stream",
     "text": [
      "INFO:trainers.cl_scETM_trainer:\n",
      "==================== Epoch 80 ====================\n",
      "INFO:trainers.cl_scETM_trainer:学习率: 0.005000, KL权重: 1.000000\n",
      "INFO:trainers.trainer_utils:loss        :      567.7\n",
      "INFO:trainers.trainer_utils:nll         :      560.1\n",
      "INFO:trainers.trainer_utils:kl          :      7.567\n",
      "INFO:trainers.trainer_utils:检查点已保存到 ./saved_models/standard_prior/pbmc_standard_05_23-03_59_03\n"
     ]
    },
    {
     "name": "stdout",
     "output_type": "stream",
     "text": [
      "loss:      567.5\tnll:      559.9\tkl:      7.567\tEpoch    89/  100\tNext ckpt:      90\r"
     ]
    },
    {
     "name": "stderr",
     "output_type": "stream",
     "text": [
      "INFO:trainers.cl_scETM_trainer:\n",
      "==================== Epoch 90 ====================\n",
      "INFO:trainers.cl_scETM_trainer:学习率: 0.005000, KL权重: 1.000000\n",
      "INFO:trainers.trainer_utils:loss        :      567.6\n",
      "INFO:trainers.trainer_utils:nll         :        560\n",
      "INFO:trainers.trainer_utils:kl          :      7.557\n"
     ]
    },
    {
     "name": "stdout",
     "output_type": "stream",
     "text": [
      "loss:      567.5\tnll:      559.9\tkl:      7.553\tEpoch    99/  100\tNext ckpt:     100\r"
     ]
    },
    {
     "name": "stderr",
     "output_type": "stream",
     "text": [
      "INFO:trainers.cl_scETM_trainer:\n",
      "==================== Epoch 100 ====================\n",
      "INFO:trainers.cl_scETM_trainer:学习率: 0.005000, KL权重: 1.000000\n",
      "INFO:trainers.trainer_utils:loss        :      567.5\n",
      "INFO:trainers.trainer_utils:nll         :      559.9\n",
      "INFO:trainers.trainer_utils:kl          :      7.566\n",
      "INFO:trainers.trainer_utils:检查点已保存到 ./saved_models/standard_prior/pbmc_standard_05_23-03_59_03\n",
      "INFO:trainers.cl_scETM_trainer:训练完成！最佳测试NLL: inf\n"
     ]
    }
   ],
   "source": [
    "    history = trainer.train(\n",
    "        n_epochs=100,\n",
    "        eval_every=10,\n",
    "        save_every=20, \n",
    "        batch_col='batch',\n",
    "        num_workers=0\n",
    "    )"
   ]
  }
 ],
 "metadata": {
  "kernelspec": {
   "display_name": "base",
   "language": "python",
   "name": "python3"
  },
  "language_info": {
   "codemirror_mode": {
    "name": "ipython",
    "version": 3
   },
   "file_extension": ".py",
   "mimetype": "text/x-python",
   "name": "python",
   "nbconvert_exporter": "python",
   "pygments_lexer": "ipython3",
   "version": "3.9.15"
  }
 },
 "nbformat": 4,
 "nbformat_minor": 5
}
